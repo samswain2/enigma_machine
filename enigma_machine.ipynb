{
 "cells": [
  {
   "cell_type": "code",
   "execution_count": 1,
   "metadata": {},
   "outputs": [],
   "source": [
    "class EnigmaSimulator:\n",
    "    def __init__(self):\n",
    "        self.alphabet = 'ABCDEFGHIJKLMNOPQRSTUVWXYZ'\n",
    "        self.rotorCollection = {\n",
    "            'I': 'EKMFLGDQVZNTOWYHXUSPAIBRCJ',\n",
    "            'II': 'AJDKSIRUXBLHWTMCQGZNPYFVOE',\n",
    "            'III': 'BDFHJLCPRTXVZNYEIWGAKMUSQO',\n",
    "            'IV': 'ESOVPZJAYQUIRHXLNFTGKDCMWB',\n",
    "            'V': 'VZBRGITYUPSDNHLXAWMJQOFECK',\n",
    "            'VI': 'JPGVOUMFYQBENHZRDKASXLICTW',\n",
    "            'VII': 'NZJHGRCXMYSWBOUFAIVLPEKQDT',\n",
    "            'VIII': 'FKQHTLXOCBJSPDZRAMEWNIUYGV'\n",
    "            }\n",
    "        self.notches = {\n",
    "            'I': 'Q',\n",
    "            'II': 'E',\n",
    "            'III': 'V',\n",
    "            'IV':'J',\n",
    "            'V': 'Z',\n",
    "            'VI': 'ZM',\n",
    "            'VII': 'ZM',\n",
    "            'VIII': 'ZM'\n",
    "            }\n",
    "        self.reflectorCollection = {\n",
    "            'A': 'EJMZALYXVBWFCRQUONTSPIKHGD',\n",
    "            'B': 'YRUHQSLDPXNGOKMIEBFZCWVJAT',\n",
    "            'C': 'FVPJIAOYEDRZXWGCTKUQSBNMHL',\n",
    "            'Bt': 'ENKQAUYWJICOPBLMDXZVFTHRGS',\n",
    "            'Ct': 'RDOBJNTKVEHMLFCWZAXGYIPSUQ'\n",
    "            }\n",
    "        self.rotors = []\n",
    "        self.reflector = None\n",
    "        self.plugboard = {}\n",
    "\n",
    "    def set_rotors(self, rotor_names, positions):\n",
    "        self.rotors = [[list(self.rotorCollection[name]), self.alphabet.index(position)] for name, position in zip(rotor_names, positions)]\n",
    "\n",
    "    def set_reflector(self, reflector_name):\n",
    "        self.reflector = self.reflectorCollection[reflector_name]\n",
    "\n",
    "    def configure_plugboard(self, mapping):\n",
    "        self.plugboard = {k: v for k, v in mapping.items()}\n",
    "        self.plugboard.update({v: k for k, v in mapping.items()})\n",
    "\n",
    "    def rotate_rotors(self):\n",
    "        # Rotors rotate in a cascading fashion, similar to an odometer\n",
    "        rotate_next = True\n",
    "        for i in range(len(self.rotors)):\n",
    "            rotor, position = self.rotors[i]\n",
    "            if rotate_next or self.alphabet[position] in self.notches[list(self.rotorCollection.keys())[i]]:\n",
    "                self.rotors[i][1] = (position + 1) % len(self.alphabet)\n",
    "                rotate_next = self.alphabet[position] in self.notches[list(self.rotorCollection.keys())[i]]\n",
    "            else:\n",
    "                break\n",
    "\n",
    "    def encrypt_decrypt_char(self, char):\n",
    "        if char in self.plugboard:\n",
    "            char = self.plugboard[char]\n",
    "\n",
    "        # Rotor encryption with position adjustment\n",
    "        for rotor, position in self.rotors[::-1]:\n",
    "            char_idx = (self.alphabet.index(char) + position) % len(self.alphabet)\n",
    "            char = rotor[char_idx]\n",
    "            char = self.alphabet[(self.alphabet.index(char) - position) % len(self.alphabet)]\n",
    "\n",
    "        # Reflector\n",
    "        char = self.reflector[self.alphabet.index(char)]\n",
    "\n",
    "        # Rotor decryption with position adjustment\n",
    "        for rotor, position in self.rotors:\n",
    "            char_idx = (self.alphabet.index(char) + position) % len(self.alphabet)\n",
    "            char = self.alphabet[rotor.index(self.alphabet[char_idx])]\n",
    "            char = self.alphabet[(self.alphabet.index(char) - position) % len(self.alphabet)]\n",
    "\n",
    "        if char in self.plugboard:\n",
    "            char = self.plugboard[char]\n",
    "\n",
    "        return char\n",
    "\n",
    "    def encrypt_decrypt(self, message):\n",
    "        encrypted_message = ''\n",
    "        for char in message.upper():\n",
    "            self.rotate_rotors()\n",
    "            if char in self.alphabet:\n",
    "                encrypted_message += self.encrypt_decrypt_char(char)\n",
    "            else:\n",
    "                encrypted_message += char\n",
    "        return encrypted_message\n",
    "    \n",
    "    def reset_rotors(self):\n",
    "        # Resets the rotation count of each rotor\n",
    "        for rotor in self.rotors:\n",
    "            rotor[1] = 0"
   ]
  },
  {
   "cell_type": "code",
   "execution_count": 3,
   "metadata": {},
   "outputs": [
    {
     "name": "stdout",
     "output_type": "stream",
     "text": [
      "Encrypted: JMFRK, NSJ UAD WFIH DAVB JAMJKFS?\n",
      "Decrypted: HELLO, CAN YOU READ THIS MESSAGE?\n"
     ]
    }
   ],
   "source": [
    "enigma = EnigmaSimulator()\n",
    "enigma.set_rotors(['IV', 'IV', 'IV'], ['A', 'B', 'C'])\n",
    "enigma.set_reflector('B')\n",
    "enigma.configure_plugboard({'A': 'B', 'C': 'D'})\n",
    "\n",
    "message = \"Hello, can you read this message?\"\n",
    "encrypted = enigma.encrypt_decrypt(message)\n",
    "print(f\"Encrypted: {encrypted}\")\n",
    "\n",
    "# Reset the Enigma machine to the initial settings for decryption\n",
    "enigma.reset_rotors()  # Reset the rotor positions\n",
    "enigma.set_rotors(['IV', 'IV', 'IV'], ['A', 'B', 'C'])\n",
    "decrypted = enigma.encrypt_decrypt(encrypted)\n",
    "print(f\"Decrypted: {decrypted}\")"
   ]
  },
  {
   "cell_type": "code",
   "execution_count": 1,
   "metadata": {},
   "outputs": [
    {
     "name": "stdout",
     "output_type": "stream",
     "text": [
      "None\n"
     ]
    }
   ],
   "source": [
    "class BombeSimulator:\n",
    "    def __init__(self):\n",
    "        # Initialize with possible Enigma settings\n",
    "        pass\n",
    "\n",
    "    def decrypt_message(self, encrypted_message):\n",
    "        # Simulate the Bombe's process to decrypt the message\n",
    "        # Iterate through possible settings and use EnigmaSimulator to check each one\n",
    "        pass"
   ]
  }
 ],
 "metadata": {
  "kernelspec": {
   "display_name": "base",
   "language": "python",
   "name": "python3"
  },
  "language_info": {
   "codemirror_mode": {
    "name": "ipython",
    "version": 3
   },
   "file_extension": ".py",
   "mimetype": "text/x-python",
   "name": "python",
   "nbconvert_exporter": "python",
   "pygments_lexer": "ipython3",
   "version": "3.10.12"
  }
 },
 "nbformat": 4,
 "nbformat_minor": 2
}
